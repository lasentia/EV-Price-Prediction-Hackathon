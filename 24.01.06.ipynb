{
 "cells": [
  {
   "cell_type": "markdown",
   "id": "bb4f413e-22d7-4b2b-a452-b8e750ebe51d",
   "metadata": {},
   "source": [
    "- 데이터 불균형이 있다면 데이터 샘플링 기법을 활용할 것임\n",
    "- 이번에는 무슨 관점으로 진행했는지 확실하게 짚고 넘어갈 것임\n",
    "- 다양한 분석과 그 과정에서 얻은 지식을 잘 정리할 것임"
   ]
  },
  {
   "cell_type": "code",
   "execution_count": 53,
   "id": "789414a9-68e5-4436-935f-519217e31ec6",
   "metadata": {},
   "outputs": [],
   "source": [
    "import pandas as pd\n",
    "import numpy as np\n",
    "import matplotlib.pyplot as plt\n",
    "import seaborn as sns\n",
    "import os\n",
    "import time\n",
    "\n",
    "# 폰트 설정\n",
    "if os.name == 'posix':\n",
    "    plt.rc(\"font\", family=\"AppleGothic\")\n",
    "else:\n",
    "    plt.rc(\"font\", family=\"Malgun Gothic\")\n",
    "\n",
    "# 마이너스 기호 깨짐 방지\n",
    "plt.rcParams['axes.unicode_minus'] = False   \n",
    "\n",
    "import warnings\n",
    "warnings.filterwarnings('ignore')"
   ]
  },
  {
   "cell_type": "code",
   "execution_count": 48,
   "id": "cd8b4611-813b-4b9c-895d-4a12fcf979ab",
   "metadata": {},
   "outputs": [],
   "source": [
    "import random\n",
    "import tensorflow as tf\n",
    "\n",
    "def set_seed(seed):\n",
    "    random.seed(seed)\n",
    "    np.random.seed(seed)\n",
    "    tf.random.set_seed(seed)\n",
    "    \n",
    "# seed 고정\n",
    "set_seed(42)  "
   ]
  },
  {
   "cell_type": "code",
   "execution_count": 2,
   "id": "ba1087db-d938-472a-8527-533809d466d6",
   "metadata": {},
   "outputs": [
    {
     "data": {
      "text/html": [
       "<div>\n",
       "<style scoped>\n",
       "    .dataframe tbody tr th:only-of-type {\n",
       "        vertical-align: middle;\n",
       "    }\n",
       "\n",
       "    .dataframe tbody tr th {\n",
       "        vertical-align: top;\n",
       "    }\n",
       "\n",
       "    .dataframe thead th {\n",
       "        text-align: right;\n",
       "    }\n",
       "</style>\n",
       "<table border=\"1\" class=\"dataframe\">\n",
       "  <thead>\n",
       "    <tr style=\"text-align: right;\">\n",
       "      <th></th>\n",
       "      <th>제조사</th>\n",
       "      <th>모델</th>\n",
       "      <th>차량상태</th>\n",
       "      <th>배터리용량</th>\n",
       "      <th>구동방식</th>\n",
       "      <th>주행거리</th>\n",
       "      <th>보증기간</th>\n",
       "      <th>사고이력</th>\n",
       "      <th>연식</th>\n",
       "      <th>가격</th>\n",
       "    </tr>\n",
       "  </thead>\n",
       "  <tbody>\n",
       "    <tr>\n",
       "      <th>0</th>\n",
       "      <td>P사</td>\n",
       "      <td>TayGTS</td>\n",
       "      <td>Nearly New</td>\n",
       "      <td>86.077</td>\n",
       "      <td>AWD</td>\n",
       "      <td>13642</td>\n",
       "      <td>0</td>\n",
       "      <td>No</td>\n",
       "      <td>2</td>\n",
       "      <td>159.66</td>\n",
       "    </tr>\n",
       "    <tr>\n",
       "      <th>1</th>\n",
       "      <td>K사</td>\n",
       "      <td>Niro</td>\n",
       "      <td>Nearly New</td>\n",
       "      <td>56.000</td>\n",
       "      <td>FWD</td>\n",
       "      <td>10199</td>\n",
       "      <td>6</td>\n",
       "      <td>No</td>\n",
       "      <td>0</td>\n",
       "      <td>28.01</td>\n",
       "    </tr>\n",
       "    <tr>\n",
       "      <th>2</th>\n",
       "      <td>A사</td>\n",
       "      <td>eT</td>\n",
       "      <td>Brand New</td>\n",
       "      <td>91.200</td>\n",
       "      <td>AWD</td>\n",
       "      <td>2361</td>\n",
       "      <td>7</td>\n",
       "      <td>No</td>\n",
       "      <td>0</td>\n",
       "      <td>66.27</td>\n",
       "    </tr>\n",
       "    <tr>\n",
       "      <th>3</th>\n",
       "      <td>A사</td>\n",
       "      <td>RSeTGT</td>\n",
       "      <td>Nearly New</td>\n",
       "      <td>NaN</td>\n",
       "      <td>AWD</td>\n",
       "      <td>21683</td>\n",
       "      <td>3</td>\n",
       "      <td>No</td>\n",
       "      <td>0</td>\n",
       "      <td>99.16</td>\n",
       "    </tr>\n",
       "    <tr>\n",
       "      <th>4</th>\n",
       "      <td>B사</td>\n",
       "      <td>i5</td>\n",
       "      <td>Pre-Owned</td>\n",
       "      <td>61.018</td>\n",
       "      <td>AWD</td>\n",
       "      <td>178205</td>\n",
       "      <td>1</td>\n",
       "      <td>No</td>\n",
       "      <td>0</td>\n",
       "      <td>62.02</td>\n",
       "    </tr>\n",
       "    <tr>\n",
       "      <th>...</th>\n",
       "      <td>...</td>\n",
       "      <td>...</td>\n",
       "      <td>...</td>\n",
       "      <td>...</td>\n",
       "      <td>...</td>\n",
       "      <td>...</td>\n",
       "      <td>...</td>\n",
       "      <td>...</td>\n",
       "      <td>...</td>\n",
       "      <td>...</td>\n",
       "    </tr>\n",
       "    <tr>\n",
       "      <th>7492</th>\n",
       "      <td>H사</td>\n",
       "      <td>ION5</td>\n",
       "      <td>Brand New</td>\n",
       "      <td>NaN</td>\n",
       "      <td>AWD</td>\n",
       "      <td>3773</td>\n",
       "      <td>10</td>\n",
       "      <td>No</td>\n",
       "      <td>0</td>\n",
       "      <td>35.95</td>\n",
       "    </tr>\n",
       "    <tr>\n",
       "      <th>7493</th>\n",
       "      <td>B사</td>\n",
       "      <td>i3</td>\n",
       "      <td>Pre-Owned</td>\n",
       "      <td>46.000</td>\n",
       "      <td>RWD</td>\n",
       "      <td>135411</td>\n",
       "      <td>2</td>\n",
       "      <td>No</td>\n",
       "      <td>0</td>\n",
       "      <td>23.40</td>\n",
       "    </tr>\n",
       "    <tr>\n",
       "      <th>7494</th>\n",
       "      <td>P사</td>\n",
       "      <td>TayCT</td>\n",
       "      <td>Brand New</td>\n",
       "      <td>NaN</td>\n",
       "      <td>AWD</td>\n",
       "      <td>1363</td>\n",
       "      <td>2</td>\n",
       "      <td>No</td>\n",
       "      <td>0</td>\n",
       "      <td>120.00</td>\n",
       "    </tr>\n",
       "    <tr>\n",
       "      <th>7495</th>\n",
       "      <td>B사</td>\n",
       "      <td>i3</td>\n",
       "      <td>Nearly New</td>\n",
       "      <td>56.000</td>\n",
       "      <td>RWD</td>\n",
       "      <td>39445</td>\n",
       "      <td>6</td>\n",
       "      <td>No</td>\n",
       "      <td>2</td>\n",
       "      <td>24.00</td>\n",
       "    </tr>\n",
       "    <tr>\n",
       "      <th>7496</th>\n",
       "      <td>T사</td>\n",
       "      <td>MY</td>\n",
       "      <td>Pre-Owned</td>\n",
       "      <td>51.940</td>\n",
       "      <td>AWD</td>\n",
       "      <td>80215</td>\n",
       "      <td>0</td>\n",
       "      <td>No</td>\n",
       "      <td>0</td>\n",
       "      <td>74.06</td>\n",
       "    </tr>\n",
       "  </tbody>\n",
       "</table>\n",
       "<p>7497 rows × 10 columns</p>\n",
       "</div>"
      ],
      "text/plain": [
       "     제조사      모델        차량상태   배터리용량 구동방식    주행거리  보증기간 사고이력  연식      가격\n",
       "0     P사  TayGTS  Nearly New  86.077  AWD   13642     0   No   2  159.66\n",
       "1     K사    Niro  Nearly New  56.000  FWD   10199     6   No   0   28.01\n",
       "2     A사      eT   Brand New  91.200  AWD    2361     7   No   0   66.27\n",
       "3     A사  RSeTGT  Nearly New     NaN  AWD   21683     3   No   0   99.16\n",
       "4     B사      i5   Pre-Owned  61.018  AWD  178205     1   No   0   62.02\n",
       "...   ..     ...         ...     ...  ...     ...   ...  ...  ..     ...\n",
       "7492  H사    ION5   Brand New     NaN  AWD    3773    10   No   0   35.95\n",
       "7493  B사      i3   Pre-Owned  46.000  RWD  135411     2   No   0   23.40\n",
       "7494  P사   TayCT   Brand New     NaN  AWD    1363     2   No   0  120.00\n",
       "7495  B사      i3  Nearly New  56.000  RWD   39445     6   No   2   24.00\n",
       "7496  T사      MY   Pre-Owned  51.940  AWD   80215     0   No   0   74.06\n",
       "\n",
       "[7497 rows x 10 columns]"
      ]
     },
     "execution_count": 2,
     "metadata": {},
     "output_type": "execute_result"
    }
   ],
   "source": [
    "df = pd.read_csv('train.csv')\n",
    "test = pd.read_csv('test.csv')\n",
    "\n",
    "\n",
    "df.drop(columns='ID', inplace=True)\n",
    "test.drop(columns='ID', inplace=True)\n",
    "\n",
    "df.rename(columns = {'주행거리(km)':'주행거리', '보증기간(년)':'보증기간', '연식(년)':'연식', '가격(백만원)':'가격'}, inplace=True)\n",
    "test.rename(columns = {'주행거리(km)':'주행거리', '보증기간(년)':'보증기간', '연식(년)':'연식', '가격(백만원)':'가격'}, inplace=True)\n",
    "\n",
    "df"
   ]
  },
  {
   "cell_type": "code",
   "execution_count": 3,
   "id": "f89b1247-960a-4c64-b245-17be54e53ce2",
   "metadata": {},
   "outputs": [
    {
     "name": "stdout",
     "output_type": "stream",
     "text": [
      "<class 'pandas.core.frame.DataFrame'>\n",
      "RangeIndex: 7497 entries, 0 to 7496\n",
      "Data columns (total 10 columns):\n",
      " #   Column  Non-Null Count  Dtype  \n",
      "---  ------  --------------  -----  \n",
      " 0   제조사     7497 non-null   object \n",
      " 1   모델      7497 non-null   object \n",
      " 2   차량상태    7497 non-null   object \n",
      " 3   배터리용량   4786 non-null   float64\n",
      " 4   구동방식    7497 non-null   object \n",
      " 5   주행거리    7497 non-null   int64  \n",
      " 6   보증기간    7497 non-null   int64  \n",
      " 7   사고이력    7497 non-null   object \n",
      " 8   연식      7497 non-null   int64  \n",
      " 9   가격      7497 non-null   float64\n",
      "dtypes: float64(2), int64(3), object(5)\n",
      "memory usage: 585.8+ KB\n"
     ]
    }
   ],
   "source": [
    "df.info()"
   ]
  },
  {
   "cell_type": "code",
   "execution_count": 4,
   "id": "7f12ebac-7b31-4282-89f4-2d0faf566919",
   "metadata": {},
   "outputs": [
    {
     "data": {
      "text/plain": [
       "제조사         0\n",
       "모델          0\n",
       "차량상태        0\n",
       "배터리용량    2711\n",
       "구동방식        0\n",
       "주행거리        0\n",
       "보증기간        0\n",
       "사고이력        0\n",
       "연식          0\n",
       "가격          0\n",
       "dtype: int64"
      ]
     },
     "execution_count": 4,
     "metadata": {},
     "output_type": "execute_result"
    }
   ],
   "source": [
    "df.isnull().sum()"
   ]
  },
  {
   "cell_type": "code",
   "execution_count": 5,
   "id": "12679710-e4a7-4910-80b6-9d616600c8f1",
   "metadata": {},
   "outputs": [
    {
     "data": {
      "text/plain": [
       "제조사        0\n",
       "모델         0\n",
       "차량상태       0\n",
       "배터리용량    304\n",
       "구동방식       0\n",
       "주행거리       0\n",
       "보증기간       0\n",
       "사고이력       0\n",
       "연식         0\n",
       "dtype: int64"
      ]
     },
     "execution_count": 5,
     "metadata": {},
     "output_type": "execute_result"
    }
   ],
   "source": [
    "test.isnull().sum()"
   ]
  },
  {
   "cell_type": "markdown",
   "id": "2bdd512f-90a2-4861-98d4-b65b2a16bf6d",
   "metadata": {},
   "source": [
    "# EDA\n",
    "데이터를 시각화 후 이상치, 결측치를 어떻게 다룰 것인지 생각한다.\n",
    "\n",
    "- 제조사, v사가 다른 제조사에 비해 400개의 데이터가 부족 (불균형으로 판단) -> v사가 다른 제조사에 비해 비싸거나, 수입차로 물량 확보가 어렵거나 그럴 수 있음\n",
    "- 모델, 모델과 제조사를 매칭하면 제조사를 특정할 수 있을 듯\n",
    "- 차량상태, 새상품이 많고 거의 새거, 중고품이 거의 동일한 빈도를 가짐, 중고라고해도 연식의 범위를 보면 새거랑 무슨 차이인지 모르겠음\n",
    "- 구동 방식, AWD(4륜), FWD(전륜), RWD(후륜)\n",
    "- 보증기간, 2년이 제일 많고, 7~8년이 그 다음\n",
    "- 사고이력, 사고 없는 차량이 매우 많음\n",
    "- 연식, 대부분 2년 이하임"
   ]
  },
  {
   "cell_type": "code",
   "execution_count": 6,
   "id": "75705387-2dea-42cf-9fe7-f3fdf265a57a",
   "metadata": {},
   "outputs": [
    {
     "data": {
      "image/png": "[encoded data removed]",
      "text/plain": [
       "<Figure size 2000x1000 with 7 Axes>"
      ]
     },
     "metadata": {},
     "output_type": "display_data"
    }
   ],
   "source": [
    "cols = ['제조사', '모델', '차량상태', '구동방식', '보증기간', '사고이력', '연식']\n",
    "\n",
    "fig, axs = plt.subplots(2, 4, figsize=(20, 10))\n",
    "axs = axs.flatten()\n",
    "\n",
    "for i, col in enumerate(cols):\n",
    "    counts = df[col].value_counts()\n",
    "\n",
    "    axs[i].bar(counts.index, counts)\n",
    "    axs[i].set_title(col)\n",
    "    axs[i].set_ylabel('빈도')\n",
    "    axs[i].tick_params(axis='x', rotation=45)\n",
    "\n",
    "for j in range(len(cols), len(axs)):\n",
    "    fig.delaxes(axs[j])\n",
    "\n",
    "plt.tight_layout()\n",
    "plt.show()"
   ]
  },
  {
   "cell_type": "code",
   "execution_count": 7,
   "id": "c6c67a46-7c62-42a3-8051-181ac57863e4",
   "metadata": {},
   "outputs": [
    {
     "data": {
      "image/png": "[encoded data removed]",
      "text/plain": [
       "<Figure size 1500x800 with 1 Axes>"
      ]
     },
     "metadata": {},
     "output_type": "display_data"
    }
   ],
   "source": [
    "# 제조사의 모델별 가격의 평균으로 그룹화 합니다.\n",
    "grouped_data = df.groupby(['제조사', '모델'])['가격'].mean().reset_index()\n",
    "\n",
    "# 더 나은 그래프를 그리기 위해 제조사별로 정렬합니다.\n",
    "grouped_data = grouped_data.sort_values(by=['제조사', '가격'], ascending=[True, False])\n",
    "\n",
    "# 그래프 전체의 크기를 나타냅니다.\n",
    "plt.figure(figsize=(15, 8))\n",
    "\n",
    "# 유니크한 제조사 명을 정의합니다.\n",
    "brands = grouped_data['제조사'].unique()\n",
    "colors = plt.cm.tab20.colors[:len(brands)]\n",
    "\n",
    "# 제조사별로 모델의 가격을 바 그래프 형태로 나타냅니다.\n",
    "for i, brand in enumerate(brands):\n",
    "    brand_data = grouped_data[grouped_data['제조사'] == brand]\n",
    "    plt.bar(\n",
    "        brand_data['모델'],\n",
    "        brand_data['가격'],\n",
    "        label=brand,\n",
    "        color=colors[i % len(colors)]\n",
    "    )\n",
    "\n",
    "# 그래프의 형태를 정의합니다.\n",
    "plt.title('제조사 별 모델 가격 분포', fontsize=16)\n",
    "plt.xlabel('모델', fontsize=12)\n",
    "plt.ylabel('가격(만원)', fontsize=12)\n",
    "plt.xticks(rotation=90, fontsize=8)\n",
    "plt.legend(title='제조사', fontsize=10, loc='upper right')\n",
    "plt.tight_layout()\n",
    "plt.show()"
   ]
  },
  {
   "cell_type": "markdown",
   "id": "cf2c491d-65bb-4078-a6ee-80ed3b2251a5",
   "metadata": {},
   "source": [
    "### Outlier"
   ]
  },
  {
   "cell_type": "code",
   "execution_count": 8,
   "id": "de45c0c2-6500-4224-be59-fa12148783e0",
   "metadata": {},
   "outputs": [
    {
     "data": {
      "image/png": "[encoded data removed]",
      "text/plain": [
       "<Figure size 1800x600 with 5 Axes>"
      ]
     },
     "metadata": {},
     "output_type": "display_data"
    }
   ],
   "source": [
    "number = df.select_dtypes(include=np.number).columns.tolist()\n",
    "\n",
    "fig, axs = plt.subplots(1, 5, figsize=(18, 6))\n",
    "\n",
    "for i, col in enumerate(number):\n",
    "    sns.boxplot(df[col], ax=axs[i])\n",
    "    axs[i].set_title(col)\n",
    "\n",
    "plt.tight_layout()\n",
    "plt.show()"
   ]
  },
  {
   "cell_type": "markdown",
   "id": "19f03a27-513e-44ed-b044-748b42f8e05a",
   "metadata": {},
   "source": [
    "### Missing values\n",
    "- 같은 제조사 같은 모델은 배터리 용량이 동일할 것이다. -> 차량 상태(사용여부?)에 따라서 다르지만 같은 상태는 용량이 같다\n",
    "- 확인하니 같은 상태라도 용량이 다른데 그 차이를 모르겠음\n",
    "- 동일한 모델에서 동일한 차량 상태일 때로 결측치 대체를 하고 유니크한 값이 없는 자동차는 따로 한 번 더 확인하자.\n",
    "- 모든 모델에 결측치 존재....\n",
    "- 연식과 가격으로 같은 연식에서 가격오차를 0.5 ~ 1로 잡고 그 가격안에 용량으로 수정하자.\n",
    "\n",
    "- 차량상태와 연식으로 분류하려고 했지만, 여전히 다양한 용량이 존재함 -> 가격으로 더 디테일하게 대체하자."
   ]
  },
  {
   "cell_type": "code",
   "execution_count": 9,
   "id": "a7a1f3a0-798d-42c0-8889-450d700926ba",
   "metadata": {},
   "outputs": [],
   "source": [
    "# 모델명\n",
    "model_names = df.모델.unique().tolist()\n",
    "\n",
    "# 차량상태\n",
    "car_states = df.차량상태.unique().tolist()\n",
    "\n",
    "# 연식\n",
    "car_age = df.연식.unique().tolist()\n",
    "\n",
    "for model in model_names:\n",
    "    for state in car_states:\n",
    "        for age in car_age:\n",
    "            \n",
    "            # 차량 정보 필터링\n",
    "            subset = df[(df['모델'] == model) & (df['차량상태'] == state) & (df['연식'] == age)]\n",
    "    \n",
    "            # 배터리 용량의 유니크 값 계산\n",
    "            unique_values = subset['배터리용량'].dropna().unique()\n",
    "    \n",
    "            if len(unique_values) == 1:\n",
    "                # 유니크 값이 1개라면 결측치를 해당 값으로 대체\n",
    "                value = unique_values[0]\n",
    "                df.loc[(df['모델'] == model) & (df['차량상태'] == state) & (df['연식'] == age) & df['배터리용량'].isna(), '배터리용량'] = value\n",
    "                test.loc[(test['모델'] == model) & (test['차량상태'] == state) & (test['연식'] == age) & test['배터리용량'].isna(), '배터리용량'] = value\n",
    "                \n",
    "            # 길이가 2개 이상\n",
    "            elif len(unique_values) >= 2:\n",
    "                # 2개 이상이라면 값이 같을 때 최빈값으로 대체 -> 가격까지 고려해서 대체하는 거로 수정. 지금은 연식으로만 최빈값 대체'\n",
    "                mode_value = subset['배터리용량'].dropna().mode()[0]\n",
    "                df.loc[(df['모델'] == model) & (df['차량상태'] == state) & (df['연식'] == age) & df['배터리용량'].isna(), '배터리용량'] = mode_value\n",
    "                test.loc[(test['모델'] == model) & (test['차량상태'] == state) & (test['연식'] == age) & test['배터리용량'].isna(), '배터리용량'] = mode_value"
   ]
  },
  {
   "cell_type": "code",
   "execution_count": 10,
   "id": "d1d1305d-daa9-498c-8231-b875a8c761de",
   "metadata": {},
   "outputs": [
    {
     "data": {
      "text/plain": [
       "제조사      0\n",
       "모델       0\n",
       "차량상태     0\n",
       "배터리용량    0\n",
       "구동방식     0\n",
       "주행거리     0\n",
       "보증기간     0\n",
       "사고이력     0\n",
       "연식       0\n",
       "가격       0\n",
       "dtype: int64"
      ]
     },
     "execution_count": 10,
     "metadata": {},
     "output_type": "execute_result"
    }
   ],
   "source": [
    "df.isnull().sum()"
   ]
  },
  {
   "cell_type": "code",
   "execution_count": 11,
   "id": "2b2134e9-c8fa-4848-bf10-df3cc13544b0",
   "metadata": {},
   "outputs": [
    {
     "data": {
      "text/plain": [
       "제조사      0\n",
       "모델       0\n",
       "차량상태     0\n",
       "배터리용량    0\n",
       "구동방식     0\n",
       "주행거리     0\n",
       "보증기간     0\n",
       "사고이력     0\n",
       "연식       0\n",
       "dtype: int64"
      ]
     },
     "execution_count": 11,
     "metadata": {},
     "output_type": "execute_result"
    }
   ],
   "source": [
    "test.isnull().sum()"
   ]
  },
  {
   "cell_type": "code",
   "execution_count": 12,
   "id": "4e4dd282-5ce2-4e56-aa12-7a1aef2b0e4c",
   "metadata": {},
   "outputs": [],
   "source": [
    "# missing_df = df[df['배터리용량'].isnull()]\n",
    "# nomiss_df = df[~df['배터리용량'].isnull()]"
   ]
  },
  {
   "cell_type": "markdown",
   "id": "cb9eb4c7-c045-4332-a999-a3d75b65c709",
   "metadata": {},
   "source": [
    "# 상관관계"
   ]
  },
  {
   "cell_type": "code",
   "execution_count": 13,
   "id": "97148fee-044d-4b25-8f41-c7406f2464ed",
   "metadata": {},
   "outputs": [
    {
     "data": {
      "image/png": "[encoded data removed]",
      "text/plain": [
       "<Figure size 640x480 with 2 Axes>"
      ]
     },
     "metadata": {},
     "output_type": "display_data"
    }
   ],
   "source": [
    "corrmatrix = df.select_dtypes(include=np.number).corr()\n",
    "mask = np.triu(corrmatrix)\n",
    "sns.heatmap(corrmatrix, annot=True, mask=mask, cmap=sns.cubehelix_palette(as_cmap=True), fmt='.2f')\n",
    "plt.show()"
   ]
  },
  {
   "cell_type": "markdown",
   "id": "b1699ec8-cde7-414f-855d-15f9fde48f0f",
   "metadata": {},
   "source": [
    "### 가설.\n",
    "- ~~제조사별 기본 가격대가 형성되어 있을 것이다.~~\n",
    "- ~~같은 모델은 가격 분포가 비슷할 것이다. 다르다면 연식, 주행거리 등이 다를 것이다.~~"
   ]
  },
  {
   "cell_type": "code",
   "execution_count": 14,
   "id": "beba1d2e-9f4b-4579-8283-917837c45bb1",
   "metadata": {},
   "outputs": [
    {
     "data": {
      "text/html": [
       "<div>\n",
       "<style scoped>\n",
       "    .dataframe tbody tr th:only-of-type {\n",
       "        vertical-align: middle;\n",
       "    }\n",
       "\n",
       "    .dataframe tbody tr th {\n",
       "        vertical-align: top;\n",
       "    }\n",
       "\n",
       "    .dataframe thead th {\n",
       "        text-align: right;\n",
       "    }\n",
       "</style>\n",
       "<table border=\"1\" class=\"dataframe\">\n",
       "  <thead>\n",
       "    <tr style=\"text-align: right;\">\n",
       "      <th></th>\n",
       "      <th>배터리용량</th>\n",
       "      <th>주행거리</th>\n",
       "      <th>보증기간</th>\n",
       "      <th>연식</th>\n",
       "      <th>가격</th>\n",
       "    </tr>\n",
       "    <tr>\n",
       "      <th>제조사</th>\n",
       "      <th></th>\n",
       "      <th></th>\n",
       "      <th></th>\n",
       "      <th></th>\n",
       "      <th></th>\n",
       "    </tr>\n",
       "  </thead>\n",
       "  <tbody>\n",
       "    <tr>\n",
       "      <th>A사</th>\n",
       "      <td>81.591060</td>\n",
       "      <td>42203.521891</td>\n",
       "      <td>4.906305</td>\n",
       "      <td>0.211909</td>\n",
       "      <td>75.128354</td>\n",
       "    </tr>\n",
       "    <tr>\n",
       "      <th>B사</th>\n",
       "      <td>72.540869</td>\n",
       "      <td>44893.035928</td>\n",
       "      <td>4.844311</td>\n",
       "      <td>0.213003</td>\n",
       "      <td>55.212344</td>\n",
       "    </tr>\n",
       "    <tr>\n",
       "      <th>H사</th>\n",
       "      <td>74.139865</td>\n",
       "      <td>45106.666936</td>\n",
       "      <td>6.283751</td>\n",
       "      <td>0.299919</td>\n",
       "      <td>31.312991</td>\n",
       "    </tr>\n",
       "    <tr>\n",
       "      <th>K사</th>\n",
       "      <td>69.276697</td>\n",
       "      <td>43827.539519</td>\n",
       "      <td>6.743986</td>\n",
       "      <td>0.207904</td>\n",
       "      <td>30.779029</td>\n",
       "    </tr>\n",
       "    <tr>\n",
       "      <th>P사</th>\n",
       "      <td>80.331620</td>\n",
       "      <td>45343.483660</td>\n",
       "      <td>1.797386</td>\n",
       "      <td>0.202614</td>\n",
       "      <td>131.990934</td>\n",
       "    </tr>\n",
       "    <tr>\n",
       "      <th>T사</th>\n",
       "      <td>80.952878</td>\n",
       "      <td>44726.633003</td>\n",
       "      <td>4.899008</td>\n",
       "      <td>0.207394</td>\n",
       "      <td>70.153724</td>\n",
       "    </tr>\n",
       "    <tr>\n",
       "      <th>V사</th>\n",
       "      <td>74.767215</td>\n",
       "      <td>43592.877686</td>\n",
       "      <td>4.867769</td>\n",
       "      <td>0.193388</td>\n",
       "      <td>38.411702</td>\n",
       "    </tr>\n",
       "  </tbody>\n",
       "</table>\n",
       "</div>"
      ],
      "text/plain": [
       "         배터리용량          주행거리      보증기간        연식          가격\n",
       "제조사                                                         \n",
       "A사   81.591060  42203.521891  4.906305  0.211909   75.128354\n",
       "B사   72.540869  44893.035928  4.844311  0.213003   55.212344\n",
       "H사   74.139865  45106.666936  6.283751  0.299919   31.312991\n",
       "K사   69.276697  43827.539519  6.743986  0.207904   30.779029\n",
       "P사   80.331620  45343.483660  1.797386  0.202614  131.990934\n",
       "T사   80.952878  44726.633003  4.899008  0.207394   70.153724\n",
       "V사   74.767215  43592.877686  4.867769  0.193388   38.411702"
      ]
     },
     "execution_count": 14,
     "metadata": {},
     "output_type": "execute_result"
    }
   ],
   "source": [
    "df.groupby('제조사').mean('numeric_only')"
   ]
  },
  {
   "cell_type": "markdown",
   "id": "d1b7d566-1723-4b5c-8680-ec3e51ddd2d0",
   "metadata": {},
   "source": [
    "하면서 느낀 것 가격을 설정하는 것은 무엇일까? 사실 모든 것이 다 가격에 유의미하다고 생각함 \n",
    "왜냐 주행거리는 의미 없음"
   ]
  },
  {
   "cell_type": "markdown",
   "id": "61134d8a-4ae0-4db2-a576-19d5aba084cb",
   "metadata": {},
   "source": [
    "### 가설. \n",
    "가격대 분포를 통해 주행거리가 유의미한지 확인하기"
   ]
  },
  {
   "cell_type": "code",
   "execution_count": 15,
   "id": "c10acaac-c43b-4280-9ae4-bb4301bbcc6d",
   "metadata": {},
   "outputs": [],
   "source": [
    "# plt.scatter(x=train['가격'], y=train['주행거리']) \n",
    "# plt.xlabel('price')\n",
    "# plt.ylabel('주행거리')\n",
    "# plt.show()"
   ]
  },
  {
   "cell_type": "code",
   "execution_count": 16,
   "id": "872934f7-446f-4087-b215-052d365b117c",
   "metadata": {},
   "outputs": [
    {
     "ename": "SyntaxError",
     "evalue": "invalid syntax (309992969.py, line 1)",
     "output_type": "error",
     "traceback": [
      "\u001b[1;36m  Cell \u001b[1;32mIn[16], line 1\u001b[1;36m\u001b[0m\n\u001b[1;33m    위 상관관계를 통해서 알 수 있는 것은 가격은 주행거리, 연식에 대해서 영향력이 거의 없다.\u001b[0m\n\u001b[1;37m      ^\u001b[0m\n\u001b[1;31mSyntaxError\u001b[0m\u001b[1;31m:\u001b[0m invalid syntax\n"
     ]
    }
   ],
   "source": [
    "위 상관관계를 통해서 알 수 있는 것은 가격은 주행거리, 연식에 대해서 영향력이 거의 없다."
   ]
  },
  {
   "cell_type": "code",
   "execution_count": 17,
   "id": "565a4d77-2042-47eb-b413-361e0984c6b3",
   "metadata": {},
   "outputs": [
    {
     "data": {
      "text/html": [
       "<div>\n",
       "<style scoped>\n",
       "    .dataframe tbody tr th:only-of-type {\n",
       "        vertical-align: middle;\n",
       "    }\n",
       "\n",
       "    .dataframe tbody tr th {\n",
       "        vertical-align: top;\n",
       "    }\n",
       "\n",
       "    .dataframe thead th {\n",
       "        text-align: right;\n",
       "    }\n",
       "</style>\n",
       "<table border=\"1\" class=\"dataframe\">\n",
       "  <thead>\n",
       "    <tr style=\"text-align: right;\">\n",
       "      <th>차량상태</th>\n",
       "      <th>Brand New</th>\n",
       "      <th>Nearly New</th>\n",
       "      <th>Pre-Owned</th>\n",
       "    </tr>\n",
       "    <tr>\n",
       "      <th>제조사</th>\n",
       "      <th></th>\n",
       "      <th></th>\n",
       "      <th></th>\n",
       "    </tr>\n",
       "  </thead>\n",
       "  <tbody>\n",
       "    <tr>\n",
       "      <th>A사</th>\n",
       "      <td>74.552363</td>\n",
       "      <td>76.375957</td>\n",
       "      <td>74.783979</td>\n",
       "    </tr>\n",
       "    <tr>\n",
       "      <th>B사</th>\n",
       "      <td>69.859148</td>\n",
       "      <td>42.947315</td>\n",
       "      <td>43.352271</td>\n",
       "    </tr>\n",
       "    <tr>\n",
       "      <th>H사</th>\n",
       "      <td>32.759082</td>\n",
       "      <td>30.348453</td>\n",
       "      <td>30.239122</td>\n",
       "    </tr>\n",
       "    <tr>\n",
       "      <th>K사</th>\n",
       "      <td>37.343562</td>\n",
       "      <td>25.471514</td>\n",
       "      <td>25.301087</td>\n",
       "    </tr>\n",
       "    <tr>\n",
       "      <th>P사</th>\n",
       "      <td>129.021367</td>\n",
       "      <td>135.989755</td>\n",
       "      <td>133.046610</td>\n",
       "    </tr>\n",
       "    <tr>\n",
       "      <th>T사</th>\n",
       "      <td>65.304538</td>\n",
       "      <td>74.404207</td>\n",
       "      <td>74.464548</td>\n",
       "    </tr>\n",
       "    <tr>\n",
       "      <th>V사</th>\n",
       "      <td>36.707428</td>\n",
       "      <td>40.045799</td>\n",
       "      <td>39.625563</td>\n",
       "    </tr>\n",
       "  </tbody>\n",
       "</table>\n",
       "</div>"
      ],
      "text/plain": [
       "차량상태   Brand New  Nearly New   Pre-Owned\n",
       "제조사                                     \n",
       "A사     74.552363   76.375957   74.783979\n",
       "B사     69.859148   42.947315   43.352271\n",
       "H사     32.759082   30.348453   30.239122\n",
       "K사     37.343562   25.471514   25.301087\n",
       "P사    129.021367  135.989755  133.046610\n",
       "T사     65.304538   74.404207   74.464548\n",
       "V사     36.707428   40.045799   39.625563"
      ]
     },
     "execution_count": 17,
     "metadata": {},
     "output_type": "execute_result"
    }
   ],
   "source": [
    "df.groupby(['제조사', '차량상태'])['가격'].mean().unstack()"
   ]
  },
  {
   "cell_type": "code",
   "execution_count": 18,
   "id": "f2bb5b2f-a1b2-4409-80dd-d67c9f9f0b0a",
   "metadata": {},
   "outputs": [
    {
     "data": {
      "text/plain": [
       "모델\n",
       "EV6        44.202493\n",
       "ID4        38.411702\n",
       "ION5       35.070142\n",
       "ION6       38.104855\n",
       "IONIQ      17.991500\n",
       "KNE        25.736603\n",
       "M3         51.632867\n",
       "MS         74.538195\n",
       "MX         83.045455\n",
       "MY         72.054775\n",
       "Niro       26.970779\n",
       "Q4eT       58.068836\n",
       "RSeTGT     98.801195\n",
       "Soul       22.120151\n",
       "Tay       109.932188\n",
       "TayCT     126.312657\n",
       "TayGTS    158.298747\n",
       "eT         68.095251\n",
       "i3         23.561108\n",
       "i5         62.873382\n",
       "iX         80.032534\n",
       "Name: 가격, dtype: float64"
      ]
     },
     "execution_count": 18,
     "metadata": {},
     "output_type": "execute_result"
    }
   ],
   "source": [
    "df.groupby('모델')['가격'].mean()"
   ]
  },
  {
   "cell_type": "markdown",
   "id": "243190a1-cb67-4b46-a9f7-92a19ae9f4ac",
   "metadata": {},
   "source": [
    "# 제조사 별 _ 브랜드 별"
   ]
  },
  {
   "cell_type": "markdown",
   "id": "042d3eac-a4bf-4dbb-971e-c1c1135db7d8",
   "metadata": {},
   "source": [
    "# Model"
   ]
  },
  {
   "cell_type": "code",
   "execution_count": 19,
   "id": "9c04bba9-3112-456f-a730-210d6e051e65",
   "metadata": {},
   "outputs": [],
   "source": [
    "from sklearn.linear_model import LinearRegression\n",
    "from sklearn.model_selection import train_test_split\n",
    "from sklearn.metrics import mean_squared_error\n",
    "from sklearn.preprocessing import LabelEncoder"
   ]
  },
  {
   "cell_type": "code",
   "execution_count": 42,
   "id": "a5ea51bc-041a-473f-96fe-b0aead7f9241",
   "metadata": {},
   "outputs": [],
   "source": [
    "## 모델\n",
    "import xgboost as xgb\n",
    "from xgboost import XGBRegressor\n",
    "from catboost import CatBoostRegressor\n",
    "from sklearn.ensemble import RandomForestRegressor, GradientBoostingRegressor, VotingRegressor, StackingRegressor\n",
    "from sklearn.model_selection import RandomizedSearchCV\n",
    "from sklearn.linear_model import Ridge\n",
    "\n",
    "# 검증\n",
    "from sklearn.model_selection import train_test_split, RandomizedSearchCV\n",
    "\n",
    "## 평가 지표\n",
    "from sklearn.metrics import mean_squared_error, r2_score\n",
    "\n",
    "# 수치형 변수 스케일링\n",
    "from sklearn.preprocessing import RobustScaler, StandardScaler, OneHotEncoder\n",
    "\n",
    "rob_scaler = RobustScaler()\n",
    "std_scaler = StandardScaler()"
   ]
  },
  {
   "cell_type": "code",
   "execution_count": 25,
   "id": "5cd385a8-8d2e-47a0-8b8c-79682071ff85",
   "metadata": {},
   "outputs": [],
   "source": [
    "'''\n",
    "label encoding\n",
    "'''\n",
    "# 범주형 변수들에 대해 label encoding 적용\n",
    "categorical_columns = ['제조사', '모델', '차량상태', '구동방식', '사고이력']\n",
    "\n",
    "for col in categorical_columns:\n",
    "    le = LabelEncoder()\n",
    "    df[col] = le.fit_transform(df[col])\n",
    "    test[col] = le.transform(test[col])"
   ]
  },
  {
   "cell_type": "code",
   "execution_count": 26,
   "id": "9cc054bc-cc0f-4a1b-a41c-9c0adde324ef",
   "metadata": {},
   "outputs": [],
   "source": [
    "train = df.drop(columns='가격')\n",
    "target = df.가격\n",
    "\n",
    "x_train, x_valid, y_train, y_valid = train_test_split(train, target, test_size=0.2, shuffle=True, random_state=34)"
   ]
  },
  {
   "cell_type": "code",
   "execution_count": 28,
   "id": "bf140be6-1a56-4e34-81e4-dd640667f710",
   "metadata": {},
   "outputs": [
    {
     "name": "stdout",
     "output_type": "stream",
     "text": [
      "mse: 393.2393639530583\n"
     ]
    }
   ],
   "source": [
    "# linear_model = LinearRegression()\n",
    "# linear_model.fit(x_train, y_train)\n",
    "\n",
    "# y_pred = linear_model.predict(x_valid)\n",
    "\n",
    "# mse = mean_squared_error(y_valid, y_pred)\n",
    "\n",
    "# print(f'mse: {mse}')"
   ]
  },
  {
   "cell_type": "code",
   "execution_count": 43,
   "id": "b8ba0e17-daab-4a10-9b65-2c23948c39c8",
   "metadata": {},
   "outputs": [
    {
     "name": "stdout",
     "output_type": "stream",
     "text": [
      "mse: 2.2412236559451153\n"
     ]
    }
   ],
   "source": [
    "model = XGBRegressor()\n",
    "model.fit(x_train, y_train)\n",
    "\n",
    "y_pred = model.predict(x_valid)\n",
    "\n",
    "mse = mean_squared_error(y_valid, y_pred)\n",
    "\n",
    "print(f'mse: {mse}')"
   ]
  },
  {
   "cell_type": "code",
   "execution_count": 44,
   "id": "e031cb5a-5af4-4d28-9e5a-65eac2158bf8",
   "metadata": {},
   "outputs": [
    {
     "data": {
      "text/html": [
       "<style>#sk-container-id-2 {color: black;}#sk-container-id-2 pre{padding: 0;}#sk-container-id-2 div.sk-toggleable {background-color: white;}#sk-container-id-2 label.sk-toggleable__label {cursor: pointer;display: block;width: 100%;margin-bottom: 0;padding: 0.3em;box-sizing: border-box;text-align: center;}#sk-container-id-2 label.sk-toggleable__label-arrow:before {content: \"▸\";float: left;margin-right: 0.25em;color: #696969;}#sk-container-id-2 label.sk-toggleable__label-arrow:hover:before {color: black;}#sk-container-id-2 div.sk-estimator:hover label.sk-toggleable__label-arrow:before {color: black;}#sk-container-id-2 div.sk-toggleable__content {max-height: 0;max-width: 0;overflow: hidden;text-align: left;background-color: #f0f8ff;}#sk-container-id-2 div.sk-toggleable__content pre {margin: 0.2em;color: black;border-radius: 0.25em;background-color: #f0f8ff;}#sk-container-id-2 input.sk-toggleable__control:checked~div.sk-toggleable__content {max-height: 200px;max-width: 100%;overflow: auto;}#sk-container-id-2 input.sk-toggleable__control:checked~label.sk-toggleable__label-arrow:before {content: \"▾\";}#sk-container-id-2 div.sk-estimator input.sk-toggleable__control:checked~label.sk-toggleable__label {background-color: #d4ebff;}#sk-container-id-2 div.sk-label input.sk-toggleable__control:checked~label.sk-toggleable__label {background-color: #d4ebff;}#sk-container-id-2 input.sk-hidden--visually {border: 0;clip: rect(1px 1px 1px 1px);clip: rect(1px, 1px, 1px, 1px);height: 1px;margin: -1px;overflow: hidden;padding: 0;position: absolute;width: 1px;}#sk-container-id-2 div.sk-estimator {font-family: monospace;background-color: #f0f8ff;border: 1px dotted black;border-radius: 0.25em;box-sizing: border-box;margin-bottom: 0.5em;}#sk-container-id-2 div.sk-estimator:hover {background-color: #d4ebff;}#sk-container-id-2 div.sk-parallel-item::after {content: \"\";width: 100%;border-bottom: 1px solid gray;flex-grow: 1;}#sk-container-id-2 div.sk-label:hover label.sk-toggleable__label {background-color: #d4ebff;}#sk-container-id-2 div.sk-serial::before {content: \"\";position: absolute;border-left: 1px solid gray;box-sizing: border-box;top: 0;bottom: 0;left: 50%;z-index: 0;}#sk-container-id-2 div.sk-serial {display: flex;flex-direction: column;align-items: center;background-color: white;padding-right: 0.2em;padding-left: 0.2em;position: relative;}#sk-container-id-2 div.sk-item {position: relative;z-index: 1;}#sk-container-id-2 div.sk-parallel {display: flex;align-items: stretch;justify-content: center;background-color: white;position: relative;}#sk-container-id-2 div.sk-item::before, #sk-container-id-2 div.sk-parallel-item::before {content: \"\";position: absolute;border-left: 1px solid gray;box-sizing: border-box;top: 0;bottom: 0;left: 50%;z-index: -1;}#sk-container-id-2 div.sk-parallel-item {display: flex;flex-direction: column;z-index: 1;position: relative;background-color: white;}#sk-container-id-2 div.sk-parallel-item:first-child::after {align-self: flex-end;width: 50%;}#sk-container-id-2 div.sk-parallel-item:last-child::after {align-self: flex-start;width: 50%;}#sk-container-id-2 div.sk-parallel-item:only-child::after {width: 0;}#sk-container-id-2 div.sk-dashed-wrapped {border: 1px dashed gray;margin: 0 0.4em 0.5em 0.4em;box-sizing: border-box;padding-bottom: 0.4em;background-color: white;}#sk-container-id-2 div.sk-label label {font-family: monospace;font-weight: bold;display: inline-block;line-height: 1.2em;}#sk-container-id-2 div.sk-label-container {text-align: center;}#sk-container-id-2 div.sk-container {/* jupyter's `normalize.less` sets `[hidden] { display: none; }` but bootstrap.min.css set `[hidden] { display: none !important; }` so we also need the `!important` here to be able to override the default hidden behavior on the sphinx rendered scikit-learn.org. See: https://github.com/scikit-learn/scikit-learn/issues/21755 */display: inline-block !important;position: relative;}#sk-container-id-2 div.sk-text-repr-fallback {display: none;}</style><div id=\"sk-container-id-2\" class=\"sk-top-container\"><div class=\"sk-text-repr-fallback\"><pre>XGBRegressor(base_score=None, booster=None, callbacks=None,\n",
       "             colsample_bylevel=None, colsample_bynode=None,\n",
       "             colsample_bytree=None, device=None, early_stopping_rounds=None,\n",
       "             enable_categorical=False, eval_metric=None, feature_types=None,\n",
       "             gamma=None, grow_policy=None, importance_type=None,\n",
       "             interaction_constraints=None, learning_rate=None, max_bin=None,\n",
       "             max_cat_threshold=None, max_cat_to_onehot=None,\n",
       "             max_delta_step=None, max_depth=None, max_leaves=None,\n",
       "             min_child_weight=None, missing=nan, monotone_constraints=None,\n",
       "             multi_strategy=None, n_estimators=None, n_jobs=None,\n",
       "             num_parallel_tree=None, random_state=None, ...)</pre><b>In a Jupyter environment, please rerun this cell to show the HTML representation or trust the notebook. <br />On GitHub, the HTML representation is unable to render, please try loading this page with nbviewer.org.</b></div><div class=\"sk-container\" hidden><div class=\"sk-item\"><div class=\"sk-estimator sk-toggleable\"><input class=\"sk-toggleable__control sk-hidden--visually\" id=\"sk-estimator-id-2\" type=\"checkbox\" checked><label for=\"sk-estimator-id-2\" class=\"sk-toggleable__label sk-toggleable__label-arrow\">XGBRegressor</label><div class=\"sk-toggleable__content\"><pre>XGBRegressor(base_score=None, booster=None, callbacks=None,\n",
       "             colsample_bylevel=None, colsample_bynode=None,\n",
       "             colsample_bytree=None, device=None, early_stopping_rounds=None,\n",
       "             enable_categorical=False, eval_metric=None, feature_types=None,\n",
       "             gamma=None, grow_policy=None, importance_type=None,\n",
       "             interaction_constraints=None, learning_rate=None, max_bin=None,\n",
       "             max_cat_threshold=None, max_cat_to_onehot=None,\n",
       "             max_delta_step=None, max_depth=None, max_leaves=None,\n",
       "             min_child_weight=None, missing=nan, monotone_constraints=None,\n",
       "             multi_strategy=None, n_estimators=None, n_jobs=None,\n",
       "             num_parallel_tree=None, random_state=None, ...)</pre></div></div></div></div></div>"
      ],
      "text/plain": [
       "XGBRegressor(base_score=None, booster=None, callbacks=None,\n",
       "             colsample_bylevel=None, colsample_bynode=None,\n",
       "             colsample_bytree=None, device=None, early_stopping_rounds=None,\n",
       "             enable_categorical=False, eval_metric=None, feature_types=None,\n",
       "             gamma=None, grow_policy=None, importance_type=None,\n",
       "             interaction_constraints=None, learning_rate=None, max_bin=None,\n",
       "             max_cat_threshold=None, max_cat_to_onehot=None,\n",
       "             max_delta_step=None, max_depth=None, max_leaves=None,\n",
       "             min_child_weight=None, missing=nan, monotone_constraints=None,\n",
       "             multi_strategy=None, n_estimators=None, n_jobs=None,\n",
       "             num_parallel_tree=None, random_state=None, ...)"
      ]
     },
     "execution_count": 44,
     "metadata": {},
     "output_type": "execute_result"
    }
   ],
   "source": [
    "model.fit(train, target)"
   ]
  },
  {
   "cell_type": "code",
   "execution_count": 57,
   "id": "01d5cb11-5833-49c0-9e2e-a3898d9fe6bd",
   "metadata": {},
   "outputs": [
    {
     "name": "stdout",
     "output_type": "stream",
     "text": [
      "Tuning RandomForest...\n"
     ]
    },
    {
     "name": "stderr",
     "output_type": "stream",
     "text": [
      "D:\\anaconda3\\envs\\cqcq\\lib\\site-packages\\sklearn\\model_selection\\_validation.py:425: FitFailedWarning: \n",
      "5 fits failed out of a total of 50.\n",
      "The score on these train-test partitions for these parameters will be set to nan.\n",
      "If these failures are not expected, you can try to debug them by setting error_score='raise'.\n",
      "\n",
      "Below are more details about the failures:\n",
      "--------------------------------------------------------------------------------\n",
      "5 fits failed with the following error:\n",
      "Traceback (most recent call last):\n",
      "  File \"D:\\anaconda3\\envs\\cqcq\\lib\\site-packages\\sklearn\\model_selection\\_validation.py\", line 729, in _fit_and_score\n",
      "    estimator.fit(X_train, y_train, **fit_params)\n",
      "  File \"D:\\anaconda3\\envs\\cqcq\\lib\\site-packages\\sklearn\\base.py\", line 1145, in wrapper\n",
      "    estimator._validate_params()\n",
      "  File \"D:\\anaconda3\\envs\\cqcq\\lib\\site-packages\\sklearn\\base.py\", line 638, in _validate_params\n",
      "    validate_parameter_constraints(\n",
      "  File \"D:\\anaconda3\\envs\\cqcq\\lib\\site-packages\\sklearn\\utils\\_param_validation.py\", line 96, in validate_parameter_constraints\n",
      "    raise InvalidParameterError(\n",
      "sklearn.utils._param_validation.InvalidParameterError: The 'max_features' parameter of RandomForestRegressor must be an int in the range [1, inf), a float in the range (0.0, 1.0], a str among {'sqrt', 'log2'} or None. Got 'auto' instead.\n",
      "\n",
      "  warnings.warn(some_fits_failed_message, FitFailedWarning)\n",
      "D:\\anaconda3\\envs\\cqcq\\lib\\site-packages\\sklearn\\model_selection\\_search.py:979: UserWarning: One or more of the test scores are non-finite: [-7.21926838 -2.66344565 -2.48410107 -2.67302508 -2.73326552 -2.79098522\n",
      " -4.54389284         nan -3.62897836 -5.28723173]\n",
      "  warnings.warn(\n"
     ]
    },
    {
     "name": "stdout",
     "output_type": "stream",
     "text": [
      "Best parameters for RandomForest: {'n_estimators': 300, 'min_samples_split': 4, 'min_samples_leaf': 1, 'max_features': 'sqrt', 'max_depth': 50}\n",
      "Best MSE for RandomForest: 2.4841\n",
      "Tuning GradientBoosting...\n",
      "Best parameters for GradientBoosting: {'subsample': 0.9, 'n_estimators': 500, 'min_samples_split': 5, 'max_depth': 7, 'learning_rate': 0.01}\n",
      "Best MSE for GradientBoosting: 2.0285\n",
      "Tuning CatBoost...\n",
      "Best parameters for CatBoost: {'learning_rate': 0.1, 'l2_leaf_reg': 10, 'iterations': 300, 'depth': 5, 'bagging_temperature': 0}\n",
      "Best MSE for CatBoost: 2.0915\n",
      "Tuning XGBoost...\n",
      "Best parameters for XGBoost: {'n_estimators': 100, 'max_depth': 7, 'learning_rate': 0.2, 'gamma': 0.3, 'colsample_bytree': 0.7}\n",
      "Best MSE for XGBoost: 2.0729\n",
      "실행 시간: 8.22 분\n"
     ]
    }
   ],
   "source": [
    "# 모델 및 파라미터 설정\n",
    "models = {\n",
    "    'RandomForest': RandomForestRegressor(),\n",
    "    'GradientBoosting': GradientBoostingRegressor(),\n",
    "    'CatBoost': CatBoostRegressor(silent=True),\n",
    "    'XGBoost': xgb.XGBRegressor(eval_metric='rmse')\n",
    "}\n",
    "\n",
    "# 하이퍼파라미터 튜닝 설정\n",
    "param_distributions = {\n",
    "    'RandomForest': {\n",
    "        'n_estimators': [100, 200, 300, 500],\n",
    "        'max_depth': [None, 10, 50, 100],\n",
    "        'min_samples_split': [2, 3, 4],\n",
    "        'max_features': ['auto', 'sqrt', 'log2'],\n",
    "        'min_samples_leaf': [1, 2, 4, 6],\n",
    "    },\n",
    "    'GradientBoosting': {\n",
    "        'n_estimators': [100, 200, 300, 500],\n",
    "        'learning_rate': [0.01, 0.1, 0.2],\n",
    "        'max_depth': [3, 5, 7, 20],\n",
    "        'subsample': [0.8, 0.9, 1.0],\n",
    "        'min_samples_split': [2, 5, 10, 15],\n",
    "    },\n",
    "    'CatBoost': {\n",
    "        'iterations': [100, 200, 300, 500],\n",
    "        'depth': [3, 5, 7, 10],\n",
    "        'learning_rate': [0.01, 0.1, 0.2],\n",
    "        'l2_leaf_reg': [1, 3, 5, 10],\n",
    "        'bagging_temperature': [0, 0.5, 1],\n",
    "    },\n",
    "    'XGBoost': {\n",
    "        'n_estimators': [100, 200, 300, 500],\n",
    "        'max_depth': [3, 5, 7, 10],\n",
    "        'learning_rate': [0.01, 0.1, 0.2],\n",
    "        'colsample_bytree': [0.3, 0.5, 0.7, 1.0],\n",
    "        'gamma': [0, 0.1, 0.2, 0.3],\n",
    "    }\n",
    "}\n",
    "start_time = time.time()\n",
    "# 하이퍼파라미터 튜닝과 교차 검증\n",
    "best_models = {}\n",
    "for model_name in models:\n",
    "    print(f\"Tuning {model_name}...\")\n",
    "    search = RandomizedSearchCV(models[model_name], param_distributions[model_name],\n",
    "                                 n_iter=10, cv=5, scoring='neg_mean_squared_error',  ## \n",
    "                                 random_state=42)\n",
    "    search.fit(x_train, y_train)\n",
    "    best_models[model_name] = search.best_estimator_\n",
    "    best_score = -search.best_score_\n",
    "    \n",
    "    print(f\"Best parameters for {model_name}: {search.best_params_}\")\n",
    "    print(f\"Best MSE for {model_name}: {best_score:.4f}\")\n",
    "end_time = time.time()\n",
    "\n",
    "print(f\"실행 시간: {(end_time - start_time) / 60:.2f} 분\")"
   ]
  },
  {
   "cell_type": "code",
   "execution_count": 60,
   "id": "1f52320e-bfc1-4c76-8524-250262ed9747",
   "metadata": {},
   "outputs": [],
   "source": [
    "# 모델 생성 (시드 고정)\n",
    "rf_model = RandomForestRegressor(n_estimators=300, min_samples_split=4, min_samples_leaf=1, max_features='sqrt', max_depth=50, random_state=42)\n",
    "gb_model = GradientBoostingRegressor(subsample=0.9, n_estimators=500, min_samples_split=5, max_depth=7, learning_rate=0.01, random_state=42)\n",
    "cb_model = CatBoostRegressor(learning_rate=0.1, l2_leaf_reg=10, iterations=300, depth=5, bagging_temperature=0, verbose=0, random_seed=42)\n",
    "xgb_model = XGBRegressor(n_estimators=100, max_depth=7, learning_rate=0.2, gamma=0.3, colsample_bytree=0.7, random_state=42)"
   ]
  },
  {
   "cell_type": "code",
   "execution_count": 61,
   "id": "1f941fff-2dc1-4ada-81cf-c016d45995c1",
   "metadata": {},
   "outputs": [
    {
     "name": "stdout",
     "output_type": "stream",
     "text": [
      "-------- model score ---------\n",
      "Random MSE: 2.4027\n",
      "Random RMSE: 1.5500771091943697\n",
      "Gradient MSE: 2.0730\n",
      "Gradient RMSE: 1.4397834994609016\n",
      "CatBoost MSE: 1.8377\n",
      "CatBoost RMSE: 1.355603961929556\n",
      "XGB MSE: 1.8457\n",
      "XGB RMSE: 1.3585777860828538\n"
     ]
    }
   ],
   "source": [
    "# 모델 학습\n",
    "rf_model.fit(x_train, y_train)\n",
    "gb_model.fit(x_train, y_train)\n",
    "cb_model.fit(x_train, y_train)\n",
    "xgb_model.fit(x_train, y_train)\n",
    "\n",
    "\n",
    "# RandomForestRegressor 예측\n",
    "y_pred_rf = rf_model.predict(x_valid)\n",
    "# GradientBoostingRegressor 예측\n",
    "y_pred_gb = gb_model.predict(x_valid)\n",
    "# CatBoostRegressor 예측\n",
    "y_pred_cb = cb_model.predict(x_valid)\n",
    "# XGBRegressor 예측\n",
    "y_pred_xgb = xgb_model.predict(x_valid)\n",
    "\n",
    "\n",
    "# 성능 평가\n",
    "mse_rf = mean_squared_error(y_valid, y_pred_rf)\n",
    "mse_gb = mean_squared_error(y_valid, y_pred_gb)\n",
    "mse_cb = mean_squared_error(y_valid, y_pred_cb)\n",
    "mse_xgb = mean_squared_error(y_valid, y_pred_xgb)\n",
    "\n",
    "\n",
    "rmse_rf = np.sqrt(mse_rf)\n",
    "rmse_gb = np.sqrt(mse_gb)\n",
    "rmse_cb = np.sqrt(mse_cb)\n",
    "rmse_xgb = np.sqrt(mse_xgb)\n",
    "# r2 = r2_score(y_valid, np.abs(y_pred_vot))\n",
    "\n",
    "print(\"-------- model score ---------\")\n",
    "print(f\"Random MSE: {mse_rf:.4f}\")\n",
    "print(f'Random RMSE: {rmse_rf}')\n",
    "\n",
    "print(f\"Gradient MSE: {mse_gb:.4f}\")\n",
    "print(f'Gradient RMSE: {rmse_gb}')\n",
    "\n",
    "print(f\"CatBoost MSE: {mse_cb:.4f}\")\n",
    "print(f'CatBoost RMSE: {rmse_cb}')\n",
    "\n",
    "print(f\"XGB MSE: {mse_xgb:.4f}\")\n",
    "print(f'XGB RMSE: {rmse_xgb}')\n",
    "\n",
    "# print(f\"R² Score: {r2:.4f}\")"
   ]
  },
  {
   "cell_type": "code",
   "execution_count": null,
   "id": "d85edbd8-d293-4076-91c5-768e93deb269",
   "metadata": {},
   "outputs": [],
   "source": [
    "# 모델 학습\n",
    "yeouido_voting_regressor.fit(x_train, y_train)\n",
    "\n",
    "# 예측\n",
    "y_pred_vot = yeouido_voting_regressor.predict(x_valid)\n",
    "\n",
    "# 성능 평가\n",
    "mse = mean_squared_error(y_valid, np.abs(y_pred_vot))\n",
    "rmse = np.sqrt(mse)\n",
    "r2 = r2_score(y_valid, np.abs(y_pred_vot))\n",
    "\n",
    "print(\"-------- voting model ---------\")\n",
    "print(f\"MSE: {mse:.4f}\")\n",
    "print(f'Ensemble RMSE: {rmse}')\n",
    "print(f\"R² Score: {r2:.4f}\")"
   ]
  },
  {
   "cell_type": "code",
   "execution_count": null,
   "id": "3d7a4b07-160e-407e-a2aa-9a9e27a6d54a",
   "metadata": {},
   "outputs": [],
   "source": [
    "# # 제조사 분포\n",
    "# counts = train['제조사'].value_counts()\n",
    "\n",
    "# # v사가 다른 제조사에 비해 400개의 데이터가 부족 (불균형으로 판단)\n",
    "# plt.bar(counts.index, counts)\n",
    "# plt.xlabel('제조사')\n",
    "# plt.ylabel('빈도')\n",
    "# plt.show()"
   ]
  },
  {
   "cell_type": "markdown",
   "id": "2c6d8d56-9c45-41cd-9063-c8a3c1a8ed4c",
   "metadata": {},
   "source": [
    "# Submission"
   ]
  },
  {
   "cell_type": "code",
   "execution_count": 62,
   "id": "cdaec5dd-3a35-4378-b66d-662fa4849876",
   "metadata": {},
   "outputs": [
    {
     "data": {
      "text/html": [
       "<div>\n",
       "<style scoped>\n",
       "    .dataframe tbody tr th:only-of-type {\n",
       "        vertical-align: middle;\n",
       "    }\n",
       "\n",
       "    .dataframe tbody tr th {\n",
       "        vertical-align: top;\n",
       "    }\n",
       "\n",
       "    .dataframe thead th {\n",
       "        text-align: right;\n",
       "    }\n",
       "</style>\n",
       "<table border=\"1\" class=\"dataframe\">\n",
       "  <thead>\n",
       "    <tr style=\"text-align: right;\">\n",
       "      <th></th>\n",
       "      <th>ID</th>\n",
       "      <th>가격(백만원)</th>\n",
       "    </tr>\n",
       "  </thead>\n",
       "  <tbody>\n",
       "    <tr>\n",
       "      <th>0</th>\n",
       "      <td>TEST_000</td>\n",
       "      <td>0</td>\n",
       "    </tr>\n",
       "    <tr>\n",
       "      <th>1</th>\n",
       "      <td>TEST_001</td>\n",
       "      <td>0</td>\n",
       "    </tr>\n",
       "    <tr>\n",
       "      <th>2</th>\n",
       "      <td>TEST_002</td>\n",
       "      <td>0</td>\n",
       "    </tr>\n",
       "    <tr>\n",
       "      <th>3</th>\n",
       "      <td>TEST_003</td>\n",
       "      <td>0</td>\n",
       "    </tr>\n",
       "    <tr>\n",
       "      <th>4</th>\n",
       "      <td>TEST_004</td>\n",
       "      <td>0</td>\n",
       "    </tr>\n",
       "    <tr>\n",
       "      <th>...</th>\n",
       "      <td>...</td>\n",
       "      <td>...</td>\n",
       "    </tr>\n",
       "    <tr>\n",
       "      <th>841</th>\n",
       "      <td>TEST_841</td>\n",
       "      <td>0</td>\n",
       "    </tr>\n",
       "    <tr>\n",
       "      <th>842</th>\n",
       "      <td>TEST_842</td>\n",
       "      <td>0</td>\n",
       "    </tr>\n",
       "    <tr>\n",
       "      <th>843</th>\n",
       "      <td>TEST_843</td>\n",
       "      <td>0</td>\n",
       "    </tr>\n",
       "    <tr>\n",
       "      <th>844</th>\n",
       "      <td>TEST_844</td>\n",
       "      <td>0</td>\n",
       "    </tr>\n",
       "    <tr>\n",
       "      <th>845</th>\n",
       "      <td>TEST_845</td>\n",
       "      <td>0</td>\n",
       "    </tr>\n",
       "  </tbody>\n",
       "</table>\n",
       "<p>846 rows × 2 columns</p>\n",
       "</div>"
      ],
      "text/plain": [
       "           ID  가격(백만원)\n",
       "0    TEST_000        0\n",
       "1    TEST_001        0\n",
       "2    TEST_002        0\n",
       "3    TEST_003        0\n",
       "4    TEST_004        0\n",
       "..        ...      ...\n",
       "841  TEST_841        0\n",
       "842  TEST_842        0\n",
       "843  TEST_843        0\n",
       "844  TEST_844        0\n",
       "845  TEST_845        0\n",
       "\n",
       "[846 rows x 2 columns]"
      ]
     },
     "execution_count": 62,
     "metadata": {},
     "output_type": "execute_result"
    }
   ],
   "source": [
    "submit = pd.read_csv('sample_submission.csv')\n",
    "submit"
   ]
  },
  {
   "cell_type": "code",
   "execution_count": 63,
   "id": "3bd5b8d4-2cc1-4eb0-97cb-46882642d3c4",
   "metadata": {},
   "outputs": [],
   "source": [
    "# 모델 학습\n",
    "rf_model.fit(train, target)\n",
    "gb_model.fit(train, target)\n",
    "cb_model.fit(train, target)\n",
    "xgb_model.fit(train, target)\n",
    "\n",
    "\n",
    "# RandomForestRegressor 예측\n",
    "y_pred_rf = rf_model.predict(test)\n",
    "# GradientBoostingRegressor 예측\n",
    "y_pred_gb = gb_model.predict(test)\n",
    "# CatBoostRegressor 예측\n",
    "y_pred_cb = cb_model.predict(test)\n",
    "# XGBRegressor 예측\n",
    "y_pred_xgb = xgb_model.predict(test)"
   ]
  },
  {
   "cell_type": "code",
   "execution_count": 73,
   "id": "bc7636c1-f183-4ac0-9086-56987d0d60cd",
   "metadata": {},
   "outputs": [
    {
     "data": {
      "text/html": [
       "<div>\n",
       "<style scoped>\n",
       "    .dataframe tbody tr th:only-of-type {\n",
       "        vertical-align: middle;\n",
       "    }\n",
       "\n",
       "    .dataframe tbody tr th {\n",
       "        vertical-align: top;\n",
       "    }\n",
       "\n",
       "    .dataframe thead th {\n",
       "        text-align: right;\n",
       "    }\n",
       "</style>\n",
       "<table border=\"1\" class=\"dataframe\">\n",
       "  <thead>\n",
       "    <tr style=\"text-align: right;\">\n",
       "      <th></th>\n",
       "      <th>ID</th>\n",
       "      <th>가격(백만원)</th>\n",
       "    </tr>\n",
       "  </thead>\n",
       "  <tbody>\n",
       "    <tr>\n",
       "      <th>0</th>\n",
       "      <td>TEST_000</td>\n",
       "      <td>130.503815</td>\n",
       "    </tr>\n",
       "    <tr>\n",
       "      <th>1</th>\n",
       "      <td>TEST_001</td>\n",
       "      <td>80.281219</td>\n",
       "    </tr>\n",
       "    <tr>\n",
       "      <th>2</th>\n",
       "      <td>TEST_002</td>\n",
       "      <td>65.360016</td>\n",
       "    </tr>\n",
       "    <tr>\n",
       "      <th>3</th>\n",
       "      <td>TEST_003</td>\n",
       "      <td>34.944756</td>\n",
       "    </tr>\n",
       "    <tr>\n",
       "      <th>4</th>\n",
       "      <td>TEST_004</td>\n",
       "      <td>47.704586</td>\n",
       "    </tr>\n",
       "    <tr>\n",
       "      <th>...</th>\n",
       "      <td>...</td>\n",
       "      <td>...</td>\n",
       "    </tr>\n",
       "    <tr>\n",
       "      <th>841</th>\n",
       "      <td>TEST_841</td>\n",
       "      <td>151.362991</td>\n",
       "    </tr>\n",
       "    <tr>\n",
       "      <th>842</th>\n",
       "      <td>TEST_842</td>\n",
       "      <td>38.808071</td>\n",
       "    </tr>\n",
       "    <tr>\n",
       "      <th>843</th>\n",
       "      <td>TEST_843</td>\n",
       "      <td>38.794884</td>\n",
       "    </tr>\n",
       "    <tr>\n",
       "      <th>844</th>\n",
       "      <td>TEST_844</td>\n",
       "      <td>58.761707</td>\n",
       "    </tr>\n",
       "    <tr>\n",
       "      <th>845</th>\n",
       "      <td>TEST_845</td>\n",
       "      <td>22.513525</td>\n",
       "    </tr>\n",
       "  </tbody>\n",
       "</table>\n",
       "<p>846 rows × 2 columns</p>\n",
       "</div>"
      ],
      "text/plain": [
       "           ID     가격(백만원)\n",
       "0    TEST_000  130.503815\n",
       "1    TEST_001   80.281219\n",
       "2    TEST_002   65.360016\n",
       "3    TEST_003   34.944756\n",
       "4    TEST_004   47.704586\n",
       "..        ...         ...\n",
       "841  TEST_841  151.362991\n",
       "842  TEST_842   38.808071\n",
       "843  TEST_843   38.794884\n",
       "844  TEST_844   58.761707\n",
       "845  TEST_845   22.513525\n",
       "\n",
       "[846 rows x 2 columns]"
      ]
     },
     "execution_count": 73,
     "metadata": {},
     "output_type": "execute_result"
    }
   ],
   "source": [
    "submit['가격(백만원)'] = y_pred_xgb\n",
    "submit"
   ]
  },
  {
   "cell_type": "code",
   "execution_count": 74,
   "id": "d52f8b5e-30f2-4807-a50a-2afcf20b1b24",
   "metadata": {},
   "outputs": [],
   "source": [
    "# submit.to_csv('./submit/submit_6.csv',index=False)"
   ]
  },
  {
   "cell_type": "code",
   "execution_count": 76,
   "id": "a5444cd9-3134-4046-920e-6cc03305bbbc",
   "metadata": {},
   "outputs": [
    {
     "data": {
      "text/plain": [
       "count    7497.000000\n",
       "mean       62.331949\n",
       "std        36.646759\n",
       "min         9.000000\n",
       "25%        34.390000\n",
       "50%        56.000000\n",
       "75%        80.050000\n",
       "max       161.090000\n",
       "Name: 가격, dtype: float64"
      ]
     },
     "execution_count": 76,
     "metadata": {},
     "output_type": "execute_result"
    }
   ],
   "source": [
    "df.가격.describe()"
   ]
  },
  {
   "cell_type": "code",
   "execution_count": 77,
   "id": "22e0cbce-7f1a-48be-8116-2e39868ef0d1",
   "metadata": {},
   "outputs": [
    {
     "data": {
      "text/plain": [
       "count    846.000000\n",
       "mean      62.324394\n",
       "std       36.644978\n",
       "min       13.840738\n",
       "25%       34.184792\n",
       "50%       55.920546\n",
       "75%       79.982529\n",
       "max      161.226028\n",
       "Name: 가격(백만원), dtype: float64"
      ]
     },
     "execution_count": 77,
     "metadata": {},
     "output_type": "execute_result"
    }
   ],
   "source": [
    "submit['가격(백만원)'].describe()"
   ]
  }
 ],
 "metadata": {
  "kernelspec": {
   "display_name": "cqcq",
   "language": "python",
   "name": "cqcq"
  },
  "language_info": {
   "codemirror_mode": {
    "name": "ipython",
    "version": 3
   },
   "file_extension": ".py",
   "mimetype": "text/x-python",
   "name": "python",
   "nbconvert_exporter": "python",
   "pygments_lexer": "ipython3",
   "version": "3.8.18"
  }
 },
 "nbformat": 4,
 "nbformat_minor": 5
}
